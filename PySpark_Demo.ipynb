{
 "cells": [
  {
   "cell_type": "markdown",
   "metadata": {},
   "source": [
    "# Client Retention Demo Using PySpark"
   ]
  },
  {
   "cell_type": "markdown",
   "metadata": {},
   "source": [
    "In this demo, we will show PySpark functionality accessing enterprise data from VSAM and DB2. The data stored in VSAM consists of 6001 rows of customer information. The data stored in DB2 consists of 20,000 rows of transaction data. The data is transformed and joined within a Spark dataframe, which is used to perform predictive analyses. A logistic regression algorithm is then used to evaluate cutomer activity level vs. churn.\n",
    "\n",
    "SparkSession is the entry point to using Spark on z/OS APIs through IBM Open Data Analytics for z/OS (IzODA)."
   ]
  },
  {
   "cell_type": "code",
   "execution_count": 4,
   "metadata": {
    "collapsed": false
   },
   "outputs": [],
   "source": [
    "import sys\n",
    "from pyspark.sql import SparkSession\n",
    "from pyspark.sql.types import StructType, StructField\n",
    "from pyspark.sql.types import DoubleType, IntegerType, StringType\n",
    "\n",
    "import warnings\n",
    "warnings.filterwarnings(\"ignore\")\n",
    "warnings.simplefilter(\"ignore\", category=PendingDeprecationWarning)\n",
    "\n",
    "zOS_IP = \"123.456.78.901\"\n",
    "MDSS_PORT = \"1200\"\n",
    "zOS_USERNAME = \"???????\"\n",
    "zOS_PASSWORD = \"????????\"\n",
    "\n",
    "spark = SparkSession.builder.master(\"spark://<Your Analytics Instance IP Address>:7077\").appName(\"pyspark_demo\").getOrCreate()"
   ]
  },
  {
   "cell_type": "markdown",
   "metadata": {},
   "source": [
    "***Client Data***\n",
    "\n",
    "Load client data into a Spark dataframe."
   ]
  },
  {
   "cell_type": "code",
   "execution_count": 6,
   "metadata": {
    "collapsed": false
   },
   "outputs": [
    {
     "name": "stdout",
     "output_type": "stream",
     "text": [
      "+-----------+------+---------+-----------+---------------------+-------------+--------------+-----+\n",
      "|customer_id|gender|age_years|highest_edu|annual_investment_rev|annual_income|activity_level|churn|\n",
      "+-----------+------+---------+-----------+---------------------+-------------+--------------+-----+\n",
      "| 1009520370|     1|    63.23|          4|                0.000|    13035.000|             3|    0|\n",
      "| 1009520380|     1|    58.51|          1|                0.000|    18267.000|             0|    0|\n",
      "| 1009520390|     0|    31.10|          2|           111192.000|   129276.000|             2|    0|\n",
      "| 1009520400|     0|    49.84|          1|                0.000|    17867.000|             2|    0|\n",
      "| 1009520410|     1|    53.33|          1|                0.000|    17576.000|             1|    0|\n",
      "| 1009520420|     1|    47.72|          3|            90419.000|   111569.000|             5|    0|\n",
      "| 1009520430|     0|    48.46|          2|            11258.000|    20142.000|             1|    1|\n",
      "| 1009520440|     0|    34.38|          1|                0.000|    33727.000|             2|    0|\n",
      "| 1009520450|     1|    47.09|          1|                0.000|    17678.000|             2|    0|\n",
      "| 1009520460|     1|    41.47|          1|                0.000|    20747.000|             2|    0|\n",
      "+-----------+------+---------+-----------+---------------------+-------------+--------------+-----+\n",
      "only showing top 10 rows\n",
      "\n"
     ]
    }
   ],
   "source": [
    "jdbc_connection = \"jdbc:rs:dv://\"+zOS_IP+\":\"+MDSS_PORT+\"; DBTY=DVS; SUBSYS=NONE; UID=\"+zOS_USERNAME+\"; PWD=\"+zOS_PASSWORD+\";\"\n",
    "raw_clientInfo_df = spark.read \\\n",
    "        .format(\"jdbc\") \\\n",
    "        .option(\"url\", jdbc_connection) \\\n",
    "        .option(\"dbtable\", \"VSAM_CLIENT\") \\\n",
    "        .load()\n",
    "clientInfo_df = raw_clientInfo_df. \\\n",
    "    toDF(\"customer_id\",\"gender\",\"age_years\",\"highest_edu\",\"annual_investment_rev\",\"annual_income\",\"activity_level\",\"churn\", \"rid\"). \\\n",
    "    select(\"customer_id\",\"gender\",\"age_years\",\"highest_edu\",\"annual_investment_rev\",\"annual_income\",\"activity_level\",\"churn\")\n",
    "        \n",
    "clientInfo_df.show(10)"
   ]
  },
  {
   "cell_type": "markdown",
   "metadata": {},
   "source": [
    "***Credit card transactions***\n",
    "\n",
    "Load credit card transactions into a Spark dataframe."
   ]
  },
  {
   "cell_type": "code",
   "execution_count": 7,
   "metadata": {
    "collapsed": false
   },
   "outputs": [
    {
     "name": "stdout",
     "output_type": "stream",
     "text": [
      "+--------------------+-------------------------+-------------------------+--------------------------+-------------------------+----------------------------+-----------------------------+--------------------------+----------+------------------+---+------------------+----------------+\n",
      "|  ACAUREQ_HDR_CREDTT|ACAUREQ_AUREQ_ENV_A_ID_ID|ACAUREQ_AUREQ_ENV_M_ID_ID|ACAUREQ_AUREQ_ENV_M_CMONNM|ACAUREQ_AUREQ_ENV_CPL_PAN|ACAUREQ_AUREQ_ENV_C_CARDBRND|ACAUREQ_AUREQ_TX_MRCHNTCTGYCD|ACAUREQ_AUREQ_TX_DT_TTLAMT|   CONT_ID|MDM_POSTAL_CODE_ID|AGE|AUTHORRESULT_RSPNT|FRAUD_VER_RESULT|\n",
      "+--------------------+-------------------------+-------------------------+--------------------------+-------------------------+----------------------------+-----------------------------+--------------------------+----------+------------------+---+------------------+----------------+\n",
      "|2013-04-03T00:47:...|            BancaItaliana|        C0120580917273555|            Don't be alone|               1009549375|                   Visa Gold|                         7273|                     84.87|1009549370|        C012058091| 51|              APPR|               N|\n",
      "|2013-01-19T18:55:...|            BancaItaliana|        C0120580915621418|            Donna Elegante|               1009549375|                   Visa Gold|                         5621|                    179.43|1009549370|        C012058091| 51|              APPR|               N|\n",
      "|2013-06-03T19:58:...|            BancaItaliana|        C0120580915311606|              Rinascimento|               1009549375|                   Visa Gold|                         5311|                    140.34|1009549370|        C012058091| 51|              APPR|               N|\n",
      "|2013-06-03T00:02:...|            BancaItaliana|        C0120580915814746|                Eat and Go|               1009549375|                   Visa Gold|                         5814|                    144.10|1009549370|        C012058091| 51|              APPR|               N|\n",
      "|2013-03-02T16:00:...|            BancaItaliana|        C0120580915992763|                  Florists|               1009549375|                   Visa Gold|                         5992|                    111.73|1009549370|        C012058091| 51|              APPR|               N|\n",
      "|2013-05-02T16:00:...|            BancaItaliana|        C0120580915441513|      Candy,Nut Confect...|               1009549375|                   Visa Gold|                         5441|                     99.76|1009549370|        C012058091| 51|              APPR|               N|\n",
      "|2013-07-02T16:00:...|            BancaItaliana|        C0120580915977738|           Cosmetic Stores|               1009549375|                   Visa Gold|                         5977|                    109.12|1009549370|        C012058091| 51|              APPR|               N|\n",
      "|2013-02-06T18:00:...|            BancaItaliana|       C01205809157221048|        All for your House|               1009549375|                   Visa Gold|                         5722|                     76.09|1009549370|        C012058091| 51|              APPR|               N|\n",
      "|2013-09-28T07:09:...|            BancaItaliana|        C0120580915661712|                     Shoes|               1009549375|                   Visa Gold|                         5661|                    269.24|1009549370|        C012058091| 51|              APPR|               N|\n",
      "|2013-02-06T11:27:...|            BancaItaliana|        C0120580915311917|                   Allegro|               1009549375|                   Visa Gold|                         5311|                    145.03|1009549370|        C012058091| 51|              APPR|               N|\n",
      "+--------------------+-------------------------+-------------------------+--------------------------+-------------------------+----------------------------+-----------------------------+--------------------------+----------+------------------+---+------------------+----------------+\n",
      "only showing top 10 rows\n",
      "\n"
     ]
    }
   ],
   "source": [
    "DB2_SSID = \"DBBG\"\n",
    "jdbc_connection = \"jdbc:rs:dv://\"+zOS_IP+\":\"+MDSS_PORT+\"; DBTY=DB2; SUBSYS=\"+DB2_SSID+\"; UID=\"+zOS_USERNAME+\"; PWD=\"+zOS_PASSWORD+\";\"\n",
    "clientTrans_df = spark.read \\\n",
    "        .format(\"jdbc\") \\\n",
    "        .option(\"url\", jdbc_connection) \\\n",
    "        .option(\"dbtable\", \"sparkdb.sppaytb1\") \\\n",
    "        .load()\n",
    "clientTrans_df.show(10)"
   ]
  },
  {
   "cell_type": "markdown",
   "metadata": {},
   "source": [
    "## Aggregate statistics\n",
    "Calculate a few aggregate statistics based on credit transactions and join the results to the client data dataframe. We also convert some of the fields to integer and double type, which will be used in following calculations."
   ]
  },
  {
   "cell_type": "code",
   "execution_count": 8,
   "metadata": {
    "collapsed": false
   },
   "outputs": [
    {
     "name": "stdout",
     "output_type": "stream",
     "text": [
      "+----------+------------------+------------------+----------+------------------+\n",
      "|   CONT_ID|  total_txn_amount|    avg_daily_txns|total_txns|    avg_txn_amount|\n",
      "+----------+------------------+------------------+----------+------------------+\n",
      "|1009550400|           40688.1|0.8054794520547945|       294|138.39489795918368|\n",
      "|1009551830| 8939.620000000003| 0.663013698630137|       242|36.940578512396705|\n",
      "|1009551650| 6646.009999999994|0.6575342465753424|       240|27.691708333333306|\n",
      "|1009549280| 8085.619999999999|0.3780821917808219|       138| 58.59144927536231|\n",
      "|1009555320|2051.8500000000004|0.1232876712328767|        45| 45.59666666666668|\n",
      "|1009526940| 6733.309999999996|0.6575342465753424|       240|28.055458333333316|\n",
      "|1009527300|16870.380000000005|0.6575342465753424|       240| 70.29325000000001|\n",
      "|1009548170| 9762.529999999997|0.7041095890410959|       257|37.986498054474694|\n",
      "|1009532800|18049.940000000002|0.5342465753424658|       195| 92.56379487179488|\n",
      "|1009528570|           7926.84|0.2547945205479452|        93| 85.23483870967742|\n",
      "+----------+------------------+------------------+----------+------------------+\n",
      "only showing top 10 rows\n",
      "\n"
     ]
    }
   ],
   "source": [
    "import pyspark.sql.functions as func\n",
    "\n",
    "calcTrans_df = clientTrans_df.groupBy(\"CONT_ID\").agg(func.sum(\"ACAUREQ_AUREQ_TX_DT_TTLAMT\"), \\\n",
    "func.count(\"ACAUREQ_AUREQ_TX_DT_TTLAMT\")/365, \\\n",
    "func.count(\"ACAUREQ_AUREQ_TX_DT_TTLAMT\"), \\\n",
    "func.sum(\"ACAUREQ_AUREQ_TX_DT_TTLAMT\")/func.count(\"ACAUREQ_AUREQ_TX_DT_TTLAMT\"))\n",
    "\n",
    "schema = StructType([ \\\n",
    "    StructField(\"CONT_ID\", IntegerType()), \\\n",
    "    StructField(\"total_txn_amount\", DoubleType()), \\\n",
    "    StructField(\"avg_daily_txns\", DoubleType()), \\\n",
    "    StructField(\"total_txns\", IntegerType()), \\\n",
    "    StructField(\"avg_txn_amount\", DoubleType()) \\\n",
    "    ])\n",
    "    \n",
    "calcTrans_df = calcTrans_df.toDF('CONT_ID', 'total_txn_amount', 'avg_daily_txns', 'total_txns', 'avg_txn_amount')\n",
    "calcTrans_df.show(10)"
   ]
  },
  {
   "cell_type": "code",
   "execution_count": 9,
   "metadata": {
    "collapsed": false,
    "scrolled": true
   },
   "outputs": [
    {
     "name": "stdout",
     "output_type": "stream",
     "text": [
      "+-----------+------+---------+-----------+---------------------+-------------+--------------+-----+----------+------------------+------------------+----------+------------------+\n",
      "|customer_id|gender|age_years|highest_edu|annual_investment_rev|annual_income|activity_level|churn|   CONT_ID|  total_txn_amount|    avg_daily_txns|total_txns|    avg_txn_amount|\n",
      "+-----------+------+---------+-----------+---------------------+-------------+--------------+-----+----------+------------------+------------------+----------+------------------+\n",
      "| 1009550400|     0|    74.09|          3|            96792.000|   199469.000|             5|    0|1009550400|           40688.1|0.8054794520547945|       294|138.39489795918368|\n",
      "| 1009551830|     1|    30.06|          4|                0.000|    20592.000|             2|    0|1009551830| 8939.620000000003| 0.663013698630137|       242|36.940578512396705|\n",
      "| 1009551650|     0|    71.09|          1|                0.000|    13415.000|             5|    0|1009551650| 6646.009999999994|0.6575342465753424|       240|27.691708333333306|\n",
      "| 1009549280|     0|    26.63|          1|                0.000|    32655.000|             3|    1|1009549280| 8085.619999999999|0.3780821917808219|       138| 58.59144927536231|\n",
      "| 1009555320|     1|    42.90|          1|                0.000|    22995.000|             4|    0|1009555320|2051.8500000000004|0.1232876712328767|        45| 45.59666666666668|\n",
      "| 1009526940|     0|    22.84|          1|                0.000|    13929.000|             1|    1|1009526940| 6733.309999999996|0.6575342465753424|       240|28.055458333333316|\n",
      "| 1009527300|     1|    39.21|          4|             7823.000|    44981.000|             2|    1|1009527300|16870.380000000005|0.6575342465753424|       240| 70.29325000000001|\n",
      "| 1009548170|     0|    32.98|          1|                0.000|    19669.000|             1|    1|1009548170| 9762.529999999997|0.7041095890410959|       257|37.986498054474694|\n",
      "| 1009532800|     1|    45.09|          2|           112567.000|    99407.000|             5|    0|1009532800|18049.940000000002|0.5342465753424658|       195| 92.56379487179488|\n",
      "| 1009528570|     1|    32.72|          4|             8824.000|    57497.000|             2|    0|1009528570|           7926.84|0.2547945205479452|        93| 85.23483870967742|\n",
      "+-----------+------+---------+-----------+---------------------+-------------+--------------+-----+----------+------------------+------------------+----------+------------------+\n",
      "only showing top 10 rows\n",
      "\n"
     ]
    }
   ],
   "source": [
    "client_df = clientInfo_df.join(calcTrans_df, calcTrans_df.CONT_ID == clientInfo_df.customer_id, \"inner\")\n",
    "client_df.show(10)"
   ]
  },
  {
   "cell_type": "markdown",
   "metadata": {},
   "source": [
    "## Predictive Analyses\n",
    "\n",
    "We now start to do some predictive analyses on the data to evaluate cutomer activity level vs. churn. We use a supervised learning algorithm, logistic regression, to train the model. Logistic regression is a common, fast, highly scalable, classification model that doesn't require much tuning and is easy to regularize. The model outputs a set of probabilities which can be more useful than class labels. Here, we will use PySpark Machine Learning library to create our model."
   ]
  },
  {
   "cell_type": "code",
   "execution_count": 10,
   "metadata": {
    "collapsed": false,
    "scrolled": true
   },
   "outputs": [
    {
     "name": "stdout",
     "output_type": "stream",
     "text": [
      "+-----+--------+--------------------+--------------------+----------+\n",
      "|label|features|       rawPrediction|         probability|prediction|\n",
      "+-----+--------+--------------------+--------------------+----------+\n",
      "|  0.0|   [5.0]|[3.85984010823379...|[0.97936347150229...|       0.0|\n",
      "|  0.0|   [2.0]|[0.92715396815165...|[0.71649753078297...|       0.0|\n",
      "|  0.0|   [5.0]|[3.85984010823379...|[0.97936347150229...|       0.0|\n",
      "|  1.0|   [3.0]|[1.90471601484570...|[0.87042435495748...|       0.0|\n",
      "|  0.0|   [4.0]|[2.88227806153975...|[0.94696339290452...|       0.0|\n",
      "|  1.0|   [1.0]|[-0.0504080785423...|[0.48740064813728...|       1.0|\n",
      "|  1.0|   [2.0]|[0.92715396815165...|[0.71649753078297...|       0.0|\n",
      "|  1.0|   [1.0]|[-0.0504080785423...|[0.48740064813728...|       1.0|\n",
      "|  0.0|   [5.0]|[3.85984010823379...|[0.97936347150229...|       0.0|\n",
      "|  0.0|   [2.0]|[0.92715396815165...|[0.71649753078297...|       0.0|\n",
      "|  0.0|   [5.0]|[3.85984010823379...|[0.97936347150229...|       0.0|\n",
      "|  1.0|   [0.0]|[-1.0279701252364...|[0.26347782693910...|       1.0|\n",
      "|  0.0|   [3.0]|[1.90471601484570...|[0.87042435495748...|       0.0|\n",
      "|  0.0|   [2.0]|[0.92715396815165...|[0.71649753078297...|       0.0|\n",
      "|  0.0|   [1.0]|[-0.0504080785423...|[0.48740064813728...|       1.0|\n",
      "|  0.0|   [3.0]|[1.90471601484570...|[0.87042435495748...|       0.0|\n",
      "|  0.0|   [1.0]|[-0.0504080785423...|[0.48740064813728...|       1.0|\n",
      "|  0.0|   [4.0]|[2.88227806153975...|[0.94696339290452...|       0.0|\n",
      "|  0.0|   [4.0]|[2.88227806153975...|[0.94696339290452...|       0.0|\n",
      "|  0.0|   [4.0]|[2.88227806153975...|[0.94696339290452...|       0.0|\n",
      "+-----+--------+--------------------+--------------------+----------+\n",
      "only showing top 20 rows\n",
      "\n"
     ]
    }
   ],
   "source": [
    "from pyspark.ml.classification import LogisticRegression\n",
    "from pyspark.ml.feature import RFormula\n",
    "from pyspark.sql.functions import udf\n",
    "\n",
    "input_df = client_df\n",
    "formula = RFormula().setFormula(\"churn ~ activity_level\").setFeaturesCol(\"features\").setLabelCol(\"label\")\n",
    "train_df = formula.fit(input_df).transform(input_df).select(\"label\", \"features\")\n",
    "\n",
    "model =  LogisticRegression().setThreshold(0.5)\n",
    "result_df = model.fit(train_df).transform(train_df)\n",
    "\n",
    "result_df.show()"
   ]
  },
  {
   "cell_type": "markdown",
   "metadata": {},
   "source": [
    "Now, we plot the S-curve for cutomer activity level vs. churn. Matplotlib and Seaborn are two common plotting libraries used in Python. These plotting libraries are useful in creating custom visualizations to help gain insights from our data."
   ]
  },
  {
   "cell_type": "code",
   "execution_count": 11,
   "metadata": {
    "collapsed": false
   },
   "outputs": [
    {
     "data": {
      "image/png": "[encoded data removed]",
      "text/plain": [
       "<matplotlib.figure.Figure at 0x5056fda358>"
      ]
     },
     "metadata": {},
     "output_type": "display_data"
    }
   ],
   "source": [
    "%matplotlib inline\n",
    "\n",
    "import matplotlib.pyplot as plt\n",
    "import seaborn as sns\n",
    "import numpy as np\n",
    "sns.set(style=\"whitegrid\")\n",
    "\n",
    "plot_list = [(e['features'].item(0),1-e['probability'].item(0)) for e in result_df.collect()]\n",
    "X = [plot_pair[0] for plot_pair in plot_list]\n",
    "Y = [plot_pair[1] for plot_pair in plot_list]\n",
    "\n",
    "plt.figure()\n",
    "plt.xlabel(\"Activity Level\", fontsize=16)\n",
    "plt.ylabel(\"Probability of Churn\", fontsize=16)\n",
    "sns.regplot(x=np.array(X),y=np.array(Y), order=2)\n",
    "plt.show()"
   ]
  },
  {
   "cell_type": "code",
   "execution_count": null,
   "metadata": {
    "collapsed": true
   },
   "outputs": [],
   "source": []
  }
 ],
 "metadata": {
  "kernelspec": {
   "display_name": "Python 3",
   "language": "python",
   "name": "python3"
  },
  "language_info": {
   "codemirror_mode": {
    "name": "ipython",
    "version": 3
   },
   "file_extension": ".py",
   "mimetype": "text/x-python",
   "name": "python",
   "nbconvert_exporter": "python",
   "pygments_lexer": "ipython3",
   "version": "3.6.1"
  }
 },
 "nbformat": 4,
 "nbformat_minor": 2
}
